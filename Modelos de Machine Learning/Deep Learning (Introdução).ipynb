{
 "cells": [
  {
   "cell_type": "markdown",
   "metadata": {
    "application/vnd.databricks.v1+cell": {
     "cellMetadata": {
      "byteLimit": 2048000,
      "rowLimit": 10000
     },
     "inputWidgets": {},
     "nuid": "8d628f80-0e01-4397-9cc6-dedeeb9ec10e",
     "showTitle": false,
     "tableResultSettingsMap": {},
     "title": ""
    }
   },
   "source": [
    "### Introdução ao Deep Learning\n",
    "- Redes Neurais.\n",
    "- Requerem mais dados que modelos mais smples.\n",
    "\n",
    "- Tensor = Similar a um array ou matriz.  \n",
    "--> 2 tensores podem ser compatíveis se possuirem as mesmas dimensões / formato."
   ]
  },
  {
   "cell_type": "code",
   "execution_count": 0,
   "metadata": {
    "application/vnd.databricks.v1+cell": {
     "cellMetadata": {
      "byteLimit": 2048000,
      "rowLimit": 10000
     },
     "inputWidgets": {},
     "nuid": "e0a8c695-a6f6-4622-bbad-395e461c7adc",
     "showTitle": false,
     "tableResultSettingsMap": {},
     "title": ""
    }
   },
   "outputs": [],
   "source": [
    "import torch\n",
    "\n",
    "lista = [[1,2,3],\n",
    "         [4,5,6]]\n",
    "tensor = torch.tensor(lista)\n",
    "\n",
    "print(tensor)\n",
    "print(tensor.shape)\n",
    "print(tensor.dtype)"
   ]
  },
  {
   "cell_type": "markdown",
   "metadata": {
    "application/vnd.databricks.v1+cell": {
     "cellMetadata": {
      "byteLimit": 2048000,
      "rowLimit": 10000
     },
     "inputWidgets": {},
     "nuid": "6d9abdc8-c6d0-48c2-a72d-848f8e7952bd",
     "showTitle": false,
     "tableResultSettingsMap": {},
     "title": ""
    }
   },
   "source": [
    "### Camadas das Redes Neurais\n",
    "- A rede neural consiste em camadas de entrada, ocultas e de saída.  \n",
    "--> Entrada / input = Features (N° de features = N° de neurônios de input)  \n",
    "--> Saída / Output = Previsões (N° de classes = N° de neurônios de output)\n",
    "\n",
    "- Rede totalmente conectada: Cada neurônio de entrada se conecta a cada neurônio de saída.\n",
    "\n",
    "- Peso = Reflete a importância de diferentes features. \n",
    "- Viés = Fornece ao neurônio uma saída de base.\n",
    "--> No começo, a camada linear atribui pesos e vieses aleatórios, os quais serão ajustados mais tarde.\n",
    "\n",
    "![Rede Neural](https://neigrando.com/wp-content/uploads/2022/03/neuronio-e-rede-neural.png)"
   ]
  },
  {
   "cell_type": "code",
   "execution_count": 0,
   "metadata": {
    "application/vnd.databricks.v1+cell": {
     "cellMetadata": {
      "byteLimit": 2048000,
      "rowLimit": 10000
     },
     "inputWidgets": {},
     "nuid": "fa000765-dba5-486a-a517-a40c53fe9c09",
     "showTitle": false,
     "tableResultSettingsMap": {},
     "title": ""
    }
   },
   "outputs": [],
   "source": [
    "import torch.nn as nn \n",
    "import torch\n",
    "\n",
    "input_tensor = torch.tensor(\n",
    "    [[0.3471,0.4547,-0.2356]]\n",
    ")\n",
    "\n",
    "camada_linear = nn.Linear(\n",
    "    in_features = 3, #N° de features\n",
    "    out_features = 2 # N° de classes\n",
    ")\n",
    "\n",
    "output = camada_linear(input_tensor)\n",
    "\n",
    "print(camada_linear.weight) # Peso\n",
    "print(camada_linear.bias) # Vieses"
   ]
  },
  {
   "cell_type": "markdown",
   "metadata": {
    "application/vnd.databricks.v1+cell": {
     "cellMetadata": {
      "byteLimit": 2048000,
      "rowLimit": 10000
     },
     "inputWidgets": {},
     "nuid": "5cc1f14d-0123-4b4f-bd18-156e63495596",
     "showTitle": false,
     "tableResultSettingsMap": {},
     "title": ""
    }
   },
   "source": [
    "### Camadas ocultas e parâmetros\n",
    "- A adição de camadas ajuda a rede a aprender padrões mais complexos.\n",
    "- nn.Sequential() é um contêiner que empilha as camadas em sequência.\n",
    "- É possível adicionar quantas camadas forem necessárias desde que a camada corresponda à dimensão de saída da anterior.\n",
    "<br><br>\n",
    "- Um neurônio de uma camada linear executa uma operação linear usando todos os neurônios da camada anterior.\n",
    "--> Un neurônio possui N+1 parâmetros, sendo N inputs e 1 viés.\n",
    "<br><br>\n",
    "- Mais camadas ocultas = mais parâmetros = maior capacidade do modelo.\n",
    "- Muitos parâmetros podem levar a muito tempo de treinamento ou overfitting.\n",
    "- Poucos parâmetros podem limitar a capacidade de aprendizado."
   ]
  },
  {
   "cell_type": "code",
   "execution_count": 0,
   "metadata": {
    "application/vnd.databricks.v1+cell": {
     "cellMetadata": {
      "byteLimit": 2048000,
      "rowLimit": 10000
     },
     "inputWidgets": {},
     "nuid": "06d56306-32c8-44cc-8998-f5f640f6f3c1",
     "showTitle": false,
     "tableResultSettingsMap": {},
     "title": ""
    }
   },
   "outputs": [],
   "source": [
    "# Rede neural com diversas camadas\n",
    "''' modelo = nn.Sequential(\n",
    "    nn.Linear(n_features, 8),\n",
    "    nn.Linear(8,4), \n",
    "    nn.Linear(4, n_classes)\n",
    ") '''\n",
    "\n",
    "modelo = nn.Sequential(\n",
    "    nn.Linear(10, 8),\n",
    "    nn.Linear(8,4), \n",
    "    nn.Linear(4, 2)\n",
    ")\n",
    "# Retorna o número de parâmetros\n",
    "total = 0\n",
    "for parametro in modelo.parameters(): \n",
    "    total += parametro.numel()\n",
    "print(total)"
   ]
  }
 ],
 "metadata": {
  "application/vnd.databricks.v1+notebook": {
   "computePreferences": null,
   "dashboards": [],
   "environmentMetadata": {
    "base_environment": "",
    "environment_version": "2"
   },
   "inputWidgetPreferences": null,
   "language": "python",
   "notebookMetadata": {
    "pythonIndentUnit": 4
   },
   "notebookName": "Deep Learning (Introdução)",
   "widgets": {}
  },
  "language_info": {
   "name": "python"
  }
 },
 "nbformat": 4,
 "nbformat_minor": 0
}
